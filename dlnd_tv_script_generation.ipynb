{
 "cells": [
  {
   "cell_type": "markdown",
   "metadata": {},
   "source": [
    "# TV Script Generation\n",
    "In this project, you'll generate your own [Simpsons](https://en.wikipedia.org/wiki/The_Simpsons) TV scripts using RNNs.  You'll be using part of the [Simpsons dataset](https://www.kaggle.com/wcukierski/the-simpsons-by-the-data) of scripts from 27 seasons.  The Neural Network you'll build will generate a new TV script for a scene at [Moe's Tavern](https://simpsonswiki.com/wiki/Moe's_Tavern).\n",
    "## Get the Data\n",
    "The data is already provided for you.  You'll be using a subset of the original dataset.  It consists of only the scenes in Moe's Tavern.  This doesn't include other versions of the tavern, like \"Moe's Cavern\", \"Flaming Moe's\", \"Uncle Moe's Family Feed-Bag\", etc.."
   ]
  },
  {
   "cell_type": "code",
   "execution_count": 1,
   "metadata": {},
   "outputs": [],
   "source": [
    "\"\"\"\n",
    "DON'T MODIFY ANYTHING IN THIS CELL\n",
    "\"\"\"\n",
    "import helper\n",
    "\n",
    "data_dir = './data/simpsons/moes_tavern_lines.txt'\n",
    "text = helper.load_data(data_dir)\n",
    "# Ignore notice, since we don't use it for analysing the data\n",
    "text = text[81:]"
   ]
  },
  {
   "cell_type": "markdown",
   "metadata": {},
   "source": [
    "## Explore the Data\n",
    "Play around with `view_sentence_range` to view different parts of the data."
   ]
  },
  {
   "cell_type": "code",
   "execution_count": 2,
   "metadata": {},
   "outputs": [
    {
     "name": "stdout",
     "output_type": "stream",
     "text": [
      "Dataset Stats\n",
      "Roughly the number of unique words: 11492\n",
      "Number of scenes: 262\n",
      "Average number of sentences in each scene: 15.251908396946565\n",
      "Number of lines: 4258\n",
      "Average number of words in each line: 11.50164396430249\n",
      "\n",
      "The sentences 0 to 10:\n",
      "\n",
      "Moe_Szyslak: (INTO PHONE) Moe's Tavern. Where the elite meet to drink.\n",
      "Bart_Simpson: Eh, yeah, hello, is Mike there? Last name, Rotch.\n",
      "Moe_Szyslak: (INTO PHONE) Hold on, I'll check. (TO BARFLIES) Mike Rotch. Mike Rotch. Hey, has anybody seen Mike Rotch, lately?\n",
      "Moe_Szyslak: (INTO PHONE) Listen you little puke. One of these days I'm gonna catch you, and I'm gonna carve my name on your back with an ice pick.\n",
      "Moe_Szyslak: What's the matter Homer? You're not your normal effervescent self.\n",
      "Homer_Simpson: I got my problems, Moe. Give me another one.\n",
      "Moe_Szyslak: Homer, hey, you should not drink to forget your problems.\n",
      "Barney_Gumble: Yeah, you should only drink to enhance your social skills.\n",
      "\n"
     ]
    }
   ],
   "source": [
    "view_sentence_range = (0, 10)\n",
    "\n",
    "\"\"\"\n",
    "DON'T MODIFY ANYTHING IN THIS CELL\n",
    "\"\"\"\n",
    "import numpy as np\n",
    "\n",
    "print('Dataset Stats')\n",
    "print('Roughly the number of unique words: {}'.format(len({word: None for word in text.split()})))\n",
    "scenes = text.split('\\n\\n')\n",
    "print('Number of scenes: {}'.format(len(scenes)))\n",
    "sentence_count_scene = [scene.count('\\n') for scene in scenes]\n",
    "print('Average number of sentences in each scene: {}'.format(np.average(sentence_count_scene)))\n",
    "\n",
    "sentences = [sentence for scene in scenes for sentence in scene.split('\\n')]\n",
    "print('Number of lines: {}'.format(len(sentences)))\n",
    "word_count_sentence = [len(sentence.split()) for sentence in sentences]\n",
    "print('Average number of words in each line: {}'.format(np.average(word_count_sentence)))\n",
    "\n",
    "print()\n",
    "print('The sentences {} to {}:'.format(*view_sentence_range))\n",
    "print('\\n'.join(text.split('\\n')[view_sentence_range[0]:view_sentence_range[1]]))"
   ]
  },
  {
   "cell_type": "markdown",
   "metadata": {},
   "source": [
    "## Implement Preprocessing Functions\n",
    "The first thing to do to any dataset is preprocessing.  Implement the following preprocessing functions below:\n",
    "- Lookup Table\n",
    "- Tokenize Punctuation\n",
    "\n",
    "### Lookup Table\n",
    "To create a word embedding, you first need to transform the words to ids.  In this function, create two dictionaries:\n",
    "- Dictionary to go from the words to an id, we'll call `vocab_to_int`\n",
    "- Dictionary to go from the id to word, we'll call `int_to_vocab`\n",
    "\n",
    "Return these dictionaries in the following tuple `(vocab_to_int, int_to_vocab)`"
   ]
  },
  {
   "cell_type": "code",
   "execution_count": 3,
   "metadata": {},
   "outputs": [
    {
     "name": "stderr",
     "output_type": "stream",
     "text": [
      "c:\\program files\\python36\\lib\\site-packages\\h5py\\__init__.py:36: FutureWarning: Conversion of the second argument of issubdtype from `float` to `np.floating` is deprecated. In future, it will be treated as `np.float64 == np.dtype(float).type`.\n",
      "  from ._conv import register_converters as _register_converters\n"
     ]
    },
    {
     "name": "stdout",
     "output_type": "stream",
     "text": [
      "Tests Passed\n"
     ]
    }
   ],
   "source": [
    "import numpy as np\n",
    "import problem_unittests as tests\n",
    "\n",
    "def create_lookup_tables(text):\n",
    "    \"\"\"\n",
    "    Create lookup tables for vocabulary\n",
    "    :param text: The text of tv scripts split into words\n",
    "    :return: A tuple of dicts (vocab_to_int, int_to_vocab)\n",
    "    \"\"\"\n",
    "    # TODO: Implement Function\n",
    "    vocabulary = set(text)\n",
    "    \n",
    "    vocab_to_int = { word:id_ for id_, word in enumerate(vocabulary) }\n",
    "    int_to_vocab = { id_:word for id_, word in enumerate(vocabulary) }\n",
    "    \n",
    "    return (vocab_to_int, int_to_vocab)\n",
    "\n",
    "\n",
    "\"\"\"\n",
    "DON'T MODIFY ANYTHING IN THIS CELL THAT IS BELOW THIS LINE\n",
    "\"\"\"\n",
    "tests.test_create_lookup_tables(create_lookup_tables)"
   ]
  },
  {
   "cell_type": "markdown",
   "metadata": {},
   "source": [
    "### Tokenize Punctuation\n",
    "We'll be splitting the script into a word array using spaces as delimiters.  However, punctuations like periods and exclamation marks make it hard for the neural network to distinguish between the word \"bye\" and \"bye!\".\n",
    "\n",
    "Implement the function `token_lookup` to return a dict that will be used to tokenize symbols like \"!\" into \"||Exclamation_Mark||\".  Create a dictionary for the following symbols where the symbol is the key and value is the token:\n",
    "- Period ( . )\n",
    "- Comma ( , )\n",
    "- Quotation Mark ( \" )\n",
    "- Semicolon ( ; )\n",
    "- Exclamation mark ( ! )\n",
    "- Question mark ( ? )\n",
    "- Left Parentheses ( ( )\n",
    "- Right Parentheses ( ) )\n",
    "- Dash ( -- )\n",
    "- Return ( \\n )\n",
    "\n",
    "This dictionary will be used to token the symbols and add the delimiter (space) around it.  This separates the symbols as it's own word, making it easier for the neural network to predict on the next word. Make sure you don't use a token that could be confused as a word. Instead of using the token \"dash\", try using something like \"||dash||\"."
   ]
  },
  {
   "cell_type": "code",
   "execution_count": 4,
   "metadata": {},
   "outputs": [
    {
     "name": "stdout",
     "output_type": "stream",
     "text": [
      "Tests Passed\n"
     ]
    }
   ],
   "source": [
    "def token_lookup():\n",
    "    \"\"\"\n",
    "    Generate a dict to turn punctuation into a token.\n",
    "    :return: Tokenize dictionary where the key is the punctuation and the value is the token\n",
    "    \"\"\"\n",
    "    # TODO: Implement Function\n",
    "    token_dict = {\n",
    "        '.' : '||period||',\n",
    "        ',' : '||comma||',\n",
    "        '\"' : '||quotation||',\n",
    "        ';' : '||semicolon||',\n",
    "        '!' : '||exclamation||',\n",
    "        '?' : '||question||',\n",
    "        '(' : '||left_parentheses||',\n",
    "        ')' : '||right_parentheses||',\n",
    "        '--' : '||dash||',\n",
    "        '\\n' : '||return||'\n",
    "    }\n",
    "    return token_dict\n",
    "\n",
    "\"\"\"\n",
    "DON'T MODIFY ANYTHING IN THIS CELL THAT IS BELOW THIS LINE\n",
    "\"\"\"\n",
    "tests.test_tokenize(token_lookup)"
   ]
  },
  {
   "cell_type": "markdown",
   "metadata": {},
   "source": [
    "## Preprocess all the data and save it\n",
    "Running the code cell below will preprocess all the data and save it to file."
   ]
  },
  {
   "cell_type": "code",
   "execution_count": 5,
   "metadata": {},
   "outputs": [],
   "source": [
    "\"\"\"\n",
    "DON'T MODIFY ANYTHING IN THIS CELL\n",
    "\"\"\"\n",
    "# Preprocess Training, Validation, and Testing Data\n",
    "helper.preprocess_and_save_data(data_dir, token_lookup, create_lookup_tables)"
   ]
  },
  {
   "cell_type": "markdown",
   "metadata": {},
   "source": [
    "# Check Point\n",
    "This is your first checkpoint. If you ever decide to come back to this notebook or have to restart the notebook, you can start from here. The preprocessed data has been saved to disk."
   ]
  },
  {
   "cell_type": "code",
   "execution_count": 6,
   "metadata": {},
   "outputs": [],
   "source": [
    "\"\"\"\n",
    "DON'T MODIFY ANYTHING IN THIS CELL\n",
    "\"\"\"\n",
    "import helper\n",
    "import numpy as np\n",
    "import problem_unittests as tests\n",
    "\n",
    "int_text, vocab_to_int, int_to_vocab, token_dict = helper.load_preprocess()"
   ]
  },
  {
   "cell_type": "markdown",
   "metadata": {},
   "source": [
    "## Build the Neural Network\n",
    "You'll build the components necessary to build a RNN by implementing the following functions below:\n",
    "- get_inputs\n",
    "- get_init_cell\n",
    "- get_embed\n",
    "- build_rnn\n",
    "- build_nn\n",
    "- get_batches\n",
    "\n",
    "### Check the Version of TensorFlow and Access to GPU"
   ]
  },
  {
   "cell_type": "code",
   "execution_count": 7,
   "metadata": {},
   "outputs": [
    {
     "name": "stdout",
     "output_type": "stream",
     "text": [
      "TensorFlow Version: 1.2.0\n",
      "Default GPU Device: /gpu:0\n"
     ]
    }
   ],
   "source": [
    "\"\"\"\n",
    "DON'T MODIFY ANYTHING IN THIS CELL\n",
    "\"\"\"\n",
    "from distutils.version import LooseVersion\n",
    "import warnings\n",
    "import tensorflow as tf\n",
    "\n",
    "# Check TensorFlow Version\n",
    "assert LooseVersion(tf.__version__) >= LooseVersion('1.0'), 'Please use TensorFlow version 1.0 or newer'\n",
    "print('TensorFlow Version: {}'.format(tf.__version__))\n",
    "\n",
    "# Check for a GPU\n",
    "if not tf.test.gpu_device_name():\n",
    "    warnings.warn('No GPU found. Please use a GPU to train your neural network.')\n",
    "else:\n",
    "    print('Default GPU Device: {}'.format(tf.test.gpu_device_name()))"
   ]
  },
  {
   "cell_type": "markdown",
   "metadata": {},
   "source": [
    "### Input\n",
    "Implement the `get_inputs()` function to create TF Placeholders for the Neural Network.  It should create the following placeholders:\n",
    "- Input text placeholder named \"input\" using the [TF Placeholder](https://www.tensorflow.org/api_docs/python/tf/placeholder) `name` parameter.\n",
    "- Targets placeholder\n",
    "- Learning Rate placeholder\n",
    "\n",
    "Return the placeholders in the following tuple `(Input, Targets, LearningRate)`"
   ]
  },
  {
   "cell_type": "code",
   "execution_count": 8,
   "metadata": {},
   "outputs": [
    {
     "name": "stdout",
     "output_type": "stream",
     "text": [
      "Tests Passed\n"
     ]
    }
   ],
   "source": [
    "def get_inputs():\n",
    "    \"\"\"\n",
    "    Create TF Placeholders for input, targets, and learning rate.\n",
    "    :return: Tuple (input, targets, learning rate)\n",
    "    \"\"\"\n",
    "    # TODO: Implement Function\n",
    "    input_ = tf.placeholder(tf.int32, [None, None], name='input')\n",
    "    targets = tf.placeholder(tf.int32, [None, None], name='target')\n",
    "    learning_rate = tf.placeholder(tf.float32, name='learning_rate')\n",
    "\n",
    "    return (input_, targets, learning_rate)\n",
    "\n",
    "\n",
    "\"\"\"\n",
    "DON'T MODIFY ANYTHING IN THIS CELL THAT IS BELOW THIS LINE\n",
    "\"\"\"\n",
    "tests.test_get_inputs(get_inputs)"
   ]
  },
  {
   "cell_type": "markdown",
   "metadata": {},
   "source": [
    "### Build RNN Cell and Initialize\n",
    "Stack one or more [`BasicLSTMCells`](https://www.tensorflow.org/api_docs/python/tf/contrib/rnn/BasicLSTMCell) in a [`MultiRNNCell`](https://www.tensorflow.org/api_docs/python/tf/contrib/rnn/MultiRNNCell).\n",
    "- The Rnn size should be set using `rnn_size`\n",
    "- Initalize Cell State using the MultiRNNCell's [`zero_state()`](https://www.tensorflow.org/api_docs/python/tf/contrib/rnn/MultiRNNCell#zero_state) function\n",
    "    - Apply the name \"initial_state\" to the initial state using [`tf.identity()`](https://www.tensorflow.org/api_docs/python/tf/identity)\n",
    "\n",
    "Return the cell and initial state in the following tuple `(Cell, InitialState)`"
   ]
  },
  {
   "cell_type": "code",
   "execution_count": 9,
   "metadata": {},
   "outputs": [
    {
     "name": "stdout",
     "output_type": "stream",
     "text": [
      "Tests Passed\n"
     ]
    }
   ],
   "source": [
    "def get_init_cell(batch_size, rnn_size):\n",
    "    \"\"\"\n",
    "    Create an RNN Cell and initialize it.\n",
    "    :param batch_size: Size of batches\n",
    "    :param rnn_size: Size of RNNs\n",
    "    :return: Tuple (cell, initialize state)\n",
    "    \"\"\"\n",
    "    # TODO: Implement Function\n",
    "    lstm = tf.contrib.rnn.BasicLSTMCell(rnn_size, state_is_tuple=True)\n",
    "    \n",
    "    cell = tf.contrib.rnn.MultiRNNCell([lstm], state_is_tuple=True)\n",
    "    \n",
    "    initial_state = tf.identity(cell.zero_state(batch_size, tf.float32), name='initial_state')\n",
    "    \n",
    "    return (cell, initial_state)\n",
    "\n",
    "\n",
    "\"\"\"\n",
    "DON'T MODIFY ANYTHING IN THIS CELL THAT IS BELOW THIS LINE\n",
    "\"\"\"\n",
    "tests.test_get_init_cell(get_init_cell)"
   ]
  },
  {
   "cell_type": "markdown",
   "metadata": {},
   "source": [
    "### Word Embedding\n",
    "Apply embedding to `input_data` using TensorFlow.  Return the embedded sequence."
   ]
  },
  {
   "cell_type": "code",
   "execution_count": 10,
   "metadata": {},
   "outputs": [
    {
     "name": "stdout",
     "output_type": "stream",
     "text": [
      "Tests Passed\n"
     ]
    }
   ],
   "source": [
    "def get_embed(input_data, vocab_size, embed_dim):\n",
    "    \"\"\"\n",
    "    Create embedding for <input_data>.\n",
    "    :param input_data: TF placeholder for text input.\n",
    "    :param vocab_size: Number of words in vocabulary.\n",
    "    :param embed_dim: Number of embedding dimensions\n",
    "    :return: Embedded input.\n",
    "    \"\"\"\n",
    "    # TODO: Implement Function\n",
    "    embedding = tf.Variable(tf.random_normal((vocab_size, embed_dim), -1, 1))\n",
    "    embedded_input = tf.nn.embedding_lookup(embedding, input_data)\n",
    "    return embedded_input\n",
    "\n",
    "\n",
    "\"\"\"\n",
    "DON'T MODIFY ANYTHING IN THIS CELL THAT IS BELOW THIS LINE\n",
    "\"\"\"\n",
    "tests.test_get_embed(get_embed)"
   ]
  },
  {
   "cell_type": "markdown",
   "metadata": {},
   "source": [
    "### Build RNN\n",
    "You created a RNN Cell in the `get_init_cell()` function.  Time to use the cell to create a RNN.\n",
    "- Build the RNN using the [`tf.nn.dynamic_rnn()`](https://www.tensorflow.org/api_docs/python/tf/nn/dynamic_rnn)\n",
    " - Apply the name \"final_state\" to the final state using [`tf.identity()`](https://www.tensorflow.org/api_docs/python/tf/identity)\n",
    "\n",
    "Return the outputs and final_state state in the following tuple `(Outputs, FinalState)` "
   ]
  },
  {
   "cell_type": "code",
   "execution_count": 11,
   "metadata": {},
   "outputs": [
    {
     "name": "stdout",
     "output_type": "stream",
     "text": [
      "Tests Passed\n"
     ]
    }
   ],
   "source": [
    "def build_rnn(cell, inputs):\n",
    "    \"\"\"\n",
    "    Create a RNN using a RNN Cell\n",
    "    :param cell: RNN Cell\n",
    "    :param inputs: Input text data\n",
    "    :return: Tuple (Outputs, Final State)\n",
    "    \"\"\"\n",
    "    # TODO: Implement Function\n",
    "    outputs, state = tf.nn.dynamic_rnn(cell, inputs, dtype=tf.float32)\n",
    "    final_state = tf.identity(state, name='final_state')\n",
    "    return (outputs, final_state)\n",
    "\n",
    "\n",
    "\"\"\"\n",
    "DON'T MODIFY ANYTHING IN THIS CELL THAT IS BELOW THIS LINE\n",
    "\"\"\"\n",
    "tests.test_build_rnn(build_rnn)"
   ]
  },
  {
   "cell_type": "markdown",
   "metadata": {},
   "source": [
    "### Build the Neural Network\n",
    "Apply the functions you implemented above to:\n",
    "- Apply embedding to `input_data` using your `get_embed(input_data, vocab_size, embed_dim)` function.\n",
    "- Build RNN using `cell` and your `build_rnn(cell, inputs)` function.\n",
    "- Apply a fully connected layer with a linear activation and `vocab_size` as the number of outputs.\n",
    "\n",
    "Return the logits and final state in the following tuple (Logits, FinalState) "
   ]
  },
  {
   "cell_type": "code",
   "execution_count": 12,
   "metadata": {},
   "outputs": [
    {
     "name": "stdout",
     "output_type": "stream",
     "text": [
      "Tests Passed\n"
     ]
    }
   ],
   "source": [
    "def build_nn(cell, rnn_size, input_data, vocab_size, embed_dim):\n",
    "    \"\"\"\n",
    "    Build part of the neural network\n",
    "    :param cell: RNN cell\n",
    "    :param rnn_size: Size of rnns\n",
    "    :param input_data: Input data\n",
    "    :param vocab_size: Vocabulary size\n",
    "    :param embed_dim: Number of embedding dimensions\n",
    "    :return: Tuple (Logits, FinalState)\n",
    "    \"\"\"\n",
    "    # TODO: Implement Function\n",
    "    embedded_input = get_embed(input_data, vocab_size, embed_dim)    \n",
    "    outputs, final_state = build_rnn(cell, embedded_input)    \n",
    "    logits = tf.contrib.layers.fully_connected(outputs, vocab_size, activation_fn=None)\n",
    "    \n",
    "    return (logits, final_state)\n",
    "\n",
    "\n",
    "\"\"\"\n",
    "DON'T MODIFY ANYTHING IN THIS CELL THAT IS BELOW THIS LINE\n",
    "\"\"\"\n",
    "tests.test_build_nn(build_nn)"
   ]
  },
  {
   "cell_type": "markdown",
   "metadata": {},
   "source": [
    "### Batches\n",
    "Implement `get_batches` to create batches of input and targets using `int_text`.  The batches should be a Numpy array with the shape `(number of batches, 2, batch size, sequence length)`. Each batch contains two elements:\n",
    "- The first element is a single batch of **input** with the shape `[batch size, sequence length]`\n",
    "- The second element is a single batch of **targets** with the shape `[batch size, sequence length]`\n",
    "\n",
    "If you can't fill the last batch with enough data, drop the last batch.\n",
    "\n",
    "For exmple, `get_batches([1, 2, 3, 4, 5, 6, 7, 8, 9, 10, 11, 12, 13, 14, 15, 16, 17, 18, 19, 20], 3, 2)` would return a Numpy array of the following:\n",
    "```\n",
    "[\n",
    "  # First Batch\n",
    "  [\n",
    "    # Batch of Input\n",
    "    [[ 1  2], [ 7  8], [13 14]]\n",
    "    # Batch of targets\n",
    "    [[ 2  3], [ 8  9], [14 15]]\n",
    "  ]\n",
    "\n",
    "  # Second Batch\n",
    "  [\n",
    "    # Batch of Input\n",
    "    [[ 3  4], [ 9 10], [15 16]]\n",
    "    # Batch of targets\n",
    "    [[ 4  5], [10 11], [16 17]]\n",
    "  ]\n",
    "\n",
    "  # Third Batch\n",
    "  [\n",
    "    # Batch of Input\n",
    "    [[ 5  6], [11 12], [17 18]]\n",
    "    # Batch of targets\n",
    "    [[ 6  7], [12 13], [18  1]]\n",
    "  ]\n",
    "]\n",
    "```\n",
    "\n",
    "Notice that the last target value in the last batch is the first input value of the first batch. In this case, `1`. This is a common technique used when creating sequence batches, although it is rather unintuitive."
   ]
  },
  {
   "cell_type": "code",
   "execution_count": 13,
   "metadata": {},
   "outputs": [
    {
     "name": "stdout",
     "output_type": "stream",
     "text": [
      "Tests Passed\n"
     ]
    }
   ],
   "source": [
    "def get_batches(int_text, batch_size, seq_length):\n",
    "    \"\"\"\n",
    "    Return batches of input and target\n",
    "    :param int_text: Text with the words replaced by their ids\n",
    "    :param batch_size: The size of batch\n",
    "    :param seq_length: The length of sequence\n",
    "    :return: Batches as a Numpy array\n",
    "    \"\"\"\n",
    "    # TODO: Implement Function\n",
    "    chars_per_batch = batch_size * seq_length\n",
    "    n_batches = len(int_text)//chars_per_batch\n",
    "    \n",
    "    input_ = np.array(int_text[: n_batches * chars_per_batch])\n",
    "    target = np.array(int_text[1: n_batches * chars_per_batch] + [int_text[0]])\n",
    "    \n",
    "    inputs = np.split(input_.reshape(batch_size, -1), n_batches, 1)\n",
    "    targets = np.split(target.reshape(batch_size, -1), n_batches, 1)\n",
    "    \n",
    "    return np.array(list(zip(inputs, targets)))\n",
    "\n",
    "\n",
    "\"\"\"\n",
    "DON'T MODIFY ANYTHING IN THIS CELL THAT IS BELOW THIS LINE\n",
    "\"\"\"\n",
    "tests.test_get_batches(get_batches)"
   ]
  },
  {
   "cell_type": "markdown",
   "metadata": {},
   "source": [
    "## Neural Network Training\n",
    "### Hyperparameters\n",
    "Tune the following parameters:\n",
    "\n",
    "- Set `num_epochs` to the number of epochs.\n",
    "- Set `batch_size` to the batch size.\n",
    "- Set `rnn_size` to the size of the RNNs.\n",
    "- Set `embed_dim` to the size of the embedding.\n",
    "- Set `seq_length` to the length of sequence.\n",
    "- Set `learning_rate` to the learning rate.\n",
    "- Set `show_every_n_batches` to the number of batches the neural network should print progress."
   ]
  },
  {
   "cell_type": "code",
   "execution_count": 31,
   "metadata": {},
   "outputs": [],
   "source": [
    "# Number of Epochs\n",
    "num_epochs = 100\n",
    "# Batch Size\n",
    "batch_size = 128\n",
    "# RNN Size\n",
    "rnn_size = 512\n",
    "# Embedding Dimension Size\n",
    "embed_dim = 128\n",
    "# Sequence Length\n",
    "seq_length = 8\n",
    "# Learning Rate\n",
    "learning_rate = 0.001\n",
    "# Show stats for every n number of batches\n",
    "show_every_n_batches = 20\n",
    "\n",
    "\"\"\"\n",
    "DON'T MODIFY ANYTHING IN THIS CELL THAT IS BELOW THIS LINE\n",
    "\"\"\"\n",
    "save_dir = './save'"
   ]
  },
  {
   "cell_type": "markdown",
   "metadata": {},
   "source": [
    "### Build the Graph\n",
    "Build the graph using the neural network you implemented."
   ]
  },
  {
   "cell_type": "code",
   "execution_count": 32,
   "metadata": {},
   "outputs": [],
   "source": [
    "\"\"\"\n",
    "DON'T MODIFY ANYTHING IN THIS CELL\n",
    "\"\"\"\n",
    "from tensorflow.contrib import seq2seq\n",
    "\n",
    "train_graph = tf.Graph()\n",
    "with train_graph.as_default():\n",
    "    vocab_size = len(int_to_vocab)\n",
    "    input_text, targets, lr = get_inputs()\n",
    "    input_data_shape = tf.shape(input_text)\n",
    "    cell, initial_state = get_init_cell(input_data_shape[0], rnn_size)\n",
    "    logits, final_state = build_nn(cell, rnn_size, input_text, vocab_size, embed_dim)\n",
    "\n",
    "    # Probabilities for generating words\n",
    "    probs = tf.nn.softmax(logits, name='probs')\n",
    "\n",
    "    # Loss function\n",
    "    cost = seq2seq.sequence_loss(\n",
    "        logits,\n",
    "        targets,\n",
    "        tf.ones([input_data_shape[0], input_data_shape[1]]))\n",
    "\n",
    "    # Optimizer\n",
    "    optimizer = tf.train.AdamOptimizer(lr)\n",
    "\n",
    "    # Gradient Clipping\n",
    "    gradients = optimizer.compute_gradients(cost)\n",
    "    capped_gradients = [(tf.clip_by_value(grad, -1., 1.), var) for grad, var in gradients if grad is not None]\n",
    "    train_op = optimizer.apply_gradients(capped_gradients)"
   ]
  },
  {
   "cell_type": "markdown",
   "metadata": {},
   "source": [
    "## Train\n",
    "Train the neural network on the preprocessed data.  If you have a hard time getting a good loss, check the [forums](https://discussions.udacity.com/) to see if anyone is having the same problem."
   ]
  },
  {
   "cell_type": "code",
   "execution_count": 33,
   "metadata": {},
   "outputs": [
    {
     "name": "stdout",
     "output_type": "stream",
     "text": [
      "Epoch   0 Batch    0/67   train_loss = 8.828\n",
      "Epoch   0 Batch   20/67   train_loss = 6.367\n",
      "Epoch   0 Batch   40/67   train_loss = 6.201\n",
      "Epoch   0 Batch   60/67   train_loss = 6.070\n",
      "Epoch   1 Batch   13/67   train_loss = 5.892\n",
      "Epoch   1 Batch   33/67   train_loss = 5.698\n",
      "Epoch   1 Batch   53/67   train_loss = 5.634\n",
      "Epoch   2 Batch    6/67   train_loss = 5.553\n",
      "Epoch   2 Batch   26/67   train_loss = 5.394\n",
      "Epoch   2 Batch   46/67   train_loss = 5.268\n",
      "Epoch   2 Batch   66/67   train_loss = 5.087\n",
      "Epoch   3 Batch   19/67   train_loss = 5.142\n",
      "Epoch   3 Batch   39/67   train_loss = 5.278\n",
      "Epoch   3 Batch   59/67   train_loss = 4.991\n",
      "Epoch   4 Batch   12/67   train_loss = 4.871\n",
      "Epoch   4 Batch   32/67   train_loss = 4.988\n",
      "Epoch   4 Batch   52/67   train_loss = 4.770\n",
      "Epoch   5 Batch    5/67   train_loss = 4.783\n",
      "Epoch   5 Batch   25/67   train_loss = 4.833\n",
      "Epoch   5 Batch   45/67   train_loss = 4.810\n",
      "Epoch   5 Batch   65/67   train_loss = 4.848\n",
      "Epoch   6 Batch   18/67   train_loss = 4.758\n",
      "Epoch   6 Batch   38/67   train_loss = 4.722\n",
      "Epoch   6 Batch   58/67   train_loss = 4.676\n",
      "Epoch   7 Batch   11/67   train_loss = 4.667\n",
      "Epoch   7 Batch   31/67   train_loss = 4.536\n",
      "Epoch   7 Batch   51/67   train_loss = 4.562\n",
      "Epoch   8 Batch    4/67   train_loss = 4.302\n",
      "Epoch   8 Batch   24/67   train_loss = 4.389\n",
      "Epoch   8 Batch   44/67   train_loss = 4.454\n",
      "Epoch   8 Batch   64/67   train_loss = 4.386\n",
      "Epoch   9 Batch   17/67   train_loss = 4.503\n",
      "Epoch   9 Batch   37/67   train_loss = 4.365\n",
      "Epoch   9 Batch   57/67   train_loss = 4.389\n",
      "Epoch  10 Batch   10/67   train_loss = 4.489\n",
      "Epoch  10 Batch   30/67   train_loss = 4.445\n",
      "Epoch  10 Batch   50/67   train_loss = 4.326\n",
      "Epoch  11 Batch    3/67   train_loss = 4.301\n",
      "Epoch  11 Batch   23/67   train_loss = 4.180\n",
      "Epoch  11 Batch   43/67   train_loss = 4.281\n",
      "Epoch  11 Batch   63/67   train_loss = 4.020\n",
      "Epoch  12 Batch   16/67   train_loss = 4.125\n",
      "Epoch  12 Batch   36/67   train_loss = 4.106\n",
      "Epoch  12 Batch   56/67   train_loss = 4.194\n",
      "Epoch  13 Batch    9/67   train_loss = 4.076\n",
      "Epoch  13 Batch   29/67   train_loss = 3.997\n",
      "Epoch  13 Batch   49/67   train_loss = 4.038\n",
      "Epoch  14 Batch    2/67   train_loss = 3.862\n",
      "Epoch  14 Batch   22/67   train_loss = 4.012\n",
      "Epoch  14 Batch   42/67   train_loss = 3.930\n",
      "Epoch  14 Batch   62/67   train_loss = 3.815\n",
      "Epoch  15 Batch   15/67   train_loss = 3.783\n",
      "Epoch  15 Batch   35/67   train_loss = 3.992\n",
      "Epoch  15 Batch   55/67   train_loss = 3.906\n",
      "Epoch  16 Batch    8/67   train_loss = 3.875\n",
      "Epoch  16 Batch   28/67   train_loss = 3.950\n",
      "Epoch  16 Batch   48/67   train_loss = 3.829\n",
      "Epoch  17 Batch    1/67   train_loss = 3.883\n",
      "Epoch  17 Batch   21/67   train_loss = 3.798\n",
      "Epoch  17 Batch   41/67   train_loss = 3.858\n",
      "Epoch  17 Batch   61/67   train_loss = 3.684\n",
      "Epoch  18 Batch   14/67   train_loss = 3.711\n",
      "Epoch  18 Batch   34/67   train_loss = 3.589\n",
      "Epoch  18 Batch   54/67   train_loss = 3.659\n",
      "Epoch  19 Batch    7/67   train_loss = 3.682\n",
      "Epoch  19 Batch   27/67   train_loss = 3.531\n",
      "Epoch  19 Batch   47/67   train_loss = 3.459\n",
      "Epoch  20 Batch    0/67   train_loss = 3.563\n",
      "Epoch  20 Batch   20/67   train_loss = 3.520\n",
      "Epoch  20 Batch   40/67   train_loss = 3.492\n",
      "Epoch  20 Batch   60/67   train_loss = 3.452\n",
      "Epoch  21 Batch   13/67   train_loss = 3.470\n",
      "Epoch  21 Batch   33/67   train_loss = 3.420\n",
      "Epoch  21 Batch   53/67   train_loss = 3.383\n",
      "Epoch  22 Batch    6/67   train_loss = 3.462\n",
      "Epoch  22 Batch   26/67   train_loss = 3.297\n",
      "Epoch  22 Batch   46/67   train_loss = 3.310\n",
      "Epoch  22 Batch   66/67   train_loss = 3.205\n",
      "Epoch  23 Batch   19/67   train_loss = 3.270\n",
      "Epoch  23 Batch   39/67   train_loss = 3.323\n",
      "Epoch  23 Batch   59/67   train_loss = 3.263\n",
      "Epoch  24 Batch   12/67   train_loss = 3.209\n",
      "Epoch  24 Batch   32/67   train_loss = 3.149\n",
      "Epoch  24 Batch   52/67   train_loss = 3.131\n",
      "Epoch  25 Batch    5/67   train_loss = 3.136\n",
      "Epoch  25 Batch   25/67   train_loss = 3.113\n",
      "Epoch  25 Batch   45/67   train_loss = 3.186\n",
      "Epoch  25 Batch   65/67   train_loss = 3.093\n",
      "Epoch  26 Batch   18/67   train_loss = 3.092\n",
      "Epoch  26 Batch   38/67   train_loss = 3.110\n",
      "Epoch  26 Batch   58/67   train_loss = 3.011\n",
      "Epoch  27 Batch   11/67   train_loss = 3.059\n",
      "Epoch  27 Batch   31/67   train_loss = 3.020\n",
      "Epoch  27 Batch   51/67   train_loss = 2.992\n",
      "Epoch  28 Batch    4/67   train_loss = 2.901\n",
      "Epoch  28 Batch   24/67   train_loss = 2.933\n",
      "Epoch  28 Batch   44/67   train_loss = 3.003\n",
      "Epoch  28 Batch   64/67   train_loss = 2.887\n",
      "Epoch  29 Batch   17/67   train_loss = 2.982\n",
      "Epoch  29 Batch   37/67   train_loss = 2.878\n",
      "Epoch  29 Batch   57/67   train_loss = 2.872\n",
      "Epoch  30 Batch   10/67   train_loss = 2.946\n",
      "Epoch  30 Batch   30/67   train_loss = 2.920\n",
      "Epoch  30 Batch   50/67   train_loss = 2.804\n",
      "Epoch  31 Batch    3/67   train_loss = 2.803\n",
      "Epoch  31 Batch   23/67   train_loss = 2.726\n",
      "Epoch  31 Batch   43/67   train_loss = 2.842\n",
      "Epoch  31 Batch   63/67   train_loss = 2.713\n",
      "Epoch  32 Batch   16/67   train_loss = 2.723\n",
      "Epoch  32 Batch   36/67   train_loss = 2.707\n",
      "Epoch  32 Batch   56/67   train_loss = 2.743\n",
      "Epoch  33 Batch    9/67   train_loss = 2.653\n",
      "Epoch  33 Batch   29/67   train_loss = 2.660\n",
      "Epoch  33 Batch   49/67   train_loss = 2.704\n",
      "Epoch  34 Batch    2/67   train_loss = 2.620\n",
      "Epoch  34 Batch   22/67   train_loss = 2.657\n",
      "Epoch  34 Batch   42/67   train_loss = 2.557\n",
      "Epoch  34 Batch   62/67   train_loss = 2.538\n",
      "Epoch  35 Batch   15/67   train_loss = 2.544\n",
      "Epoch  35 Batch   35/67   train_loss = 2.668\n",
      "Epoch  35 Batch   55/67   train_loss = 2.632\n",
      "Epoch  36 Batch    8/67   train_loss = 2.572\n",
      "Epoch  36 Batch   28/67   train_loss = 2.589\n",
      "Epoch  36 Batch   48/67   train_loss = 2.624\n",
      "Epoch  37 Batch    1/67   train_loss = 2.668\n",
      "Epoch  37 Batch   21/67   train_loss = 2.496\n",
      "Epoch  37 Batch   41/67   train_loss = 2.551\n",
      "Epoch  37 Batch   61/67   train_loss = 2.443\n",
      "Epoch  38 Batch   14/67   train_loss = 2.441\n",
      "Epoch  38 Batch   34/67   train_loss = 2.460\n",
      "Epoch  38 Batch   54/67   train_loss = 2.406\n",
      "Epoch  39 Batch    7/67   train_loss = 2.417\n",
      "Epoch  39 Batch   27/67   train_loss = 2.347\n",
      "Epoch  39 Batch   47/67   train_loss = 2.303\n",
      "Epoch  40 Batch    0/67   train_loss = 2.458\n",
      "Epoch  40 Batch   20/67   train_loss = 2.362\n",
      "Epoch  40 Batch   40/67   train_loss = 2.360\n",
      "Epoch  40 Batch   60/67   train_loss = 2.335\n",
      "Epoch  41 Batch   13/67   train_loss = 2.234\n",
      "Epoch  41 Batch   33/67   train_loss = 2.330\n",
      "Epoch  41 Batch   53/67   train_loss = 2.217\n",
      "Epoch  42 Batch    6/67   train_loss = 2.358\n",
      "Epoch  42 Batch   26/67   train_loss = 2.245\n",
      "Epoch  42 Batch   46/67   train_loss = 2.271\n",
      "Epoch  42 Batch   66/67   train_loss = 2.159\n",
      "Epoch  43 Batch   19/67   train_loss = 2.193\n",
      "Epoch  43 Batch   39/67   train_loss = 2.185\n",
      "Epoch  43 Batch   59/67   train_loss = 2.225\n",
      "Epoch  44 Batch   12/67   train_loss = 2.156\n",
      "Epoch  44 Batch   32/67   train_loss = 2.089\n",
      "Epoch  44 Batch   52/67   train_loss = 2.124\n",
      "Epoch  45 Batch    5/67   train_loss = 2.072\n",
      "Epoch  45 Batch   25/67   train_loss = 1.994\n",
      "Epoch  45 Batch   45/67   train_loss = 2.102\n",
      "Epoch  45 Batch   65/67   train_loss = 2.081\n",
      "Epoch  46 Batch   18/67   train_loss = 2.040\n",
      "Epoch  46 Batch   38/67   train_loss = 2.131\n",
      "Epoch  46 Batch   58/67   train_loss = 2.016\n",
      "Epoch  47 Batch   11/67   train_loss = 2.048\n",
      "Epoch  47 Batch   31/67   train_loss = 2.063\n",
      "Epoch  47 Batch   51/67   train_loss = 2.002\n",
      "Epoch  48 Batch    4/67   train_loss = 1.917\n",
      "Epoch  48 Batch   24/67   train_loss = 2.003\n",
      "Epoch  48 Batch   44/67   train_loss = 1.965\n",
      "Epoch  48 Batch   64/67   train_loss = 1.888\n",
      "Epoch  49 Batch   17/67   train_loss = 1.991\n",
      "Epoch  49 Batch   37/67   train_loss = 1.935\n",
      "Epoch  49 Batch   57/67   train_loss = 1.841\n",
      "Epoch  50 Batch   10/67   train_loss = 1.907\n",
      "Epoch  50 Batch   30/67   train_loss = 1.942\n",
      "Epoch  50 Batch   50/67   train_loss = 1.782\n",
      "Epoch  51 Batch    3/67   train_loss = 1.855\n",
      "Epoch  51 Batch   23/67   train_loss = 1.813\n",
      "Epoch  51 Batch   43/67   train_loss = 1.859\n",
      "Epoch  51 Batch   63/67   train_loss = 1.805\n",
      "Epoch  52 Batch   16/67   train_loss = 1.851\n",
      "Epoch  52 Batch   36/67   train_loss = 1.808\n",
      "Epoch  52 Batch   56/67   train_loss = 1.734\n",
      "Epoch  53 Batch    9/67   train_loss = 1.675\n",
      "Epoch  53 Batch   29/67   train_loss = 1.767\n",
      "Epoch  53 Batch   49/67   train_loss = 1.804\n",
      "Epoch  54 Batch    2/67   train_loss = 1.718\n",
      "Epoch  54 Batch   22/67   train_loss = 1.755\n"
     ]
    },
    {
     "name": "stdout",
     "output_type": "stream",
     "text": [
      "Epoch  54 Batch   42/67   train_loss = 1.675\n",
      "Epoch  54 Batch   62/67   train_loss = 1.689\n",
      "Epoch  55 Batch   15/67   train_loss = 1.709\n",
      "Epoch  55 Batch   35/67   train_loss = 1.777\n",
      "Epoch  55 Batch   55/67   train_loss = 1.718\n",
      "Epoch  56 Batch    8/67   train_loss = 1.674\n",
      "Epoch  56 Batch   28/67   train_loss = 1.698\n",
      "Epoch  56 Batch   48/67   train_loss = 1.755\n",
      "Epoch  57 Batch    1/67   train_loss = 1.748\n",
      "Epoch  57 Batch   21/67   train_loss = 1.611\n",
      "Epoch  57 Batch   41/67   train_loss = 1.681\n",
      "Epoch  57 Batch   61/67   train_loss = 1.587\n",
      "Epoch  58 Batch   14/67   train_loss = 1.583\n",
      "Epoch  58 Batch   34/67   train_loss = 1.608\n",
      "Epoch  58 Batch   54/67   train_loss = 1.552\n",
      "Epoch  59 Batch    7/67   train_loss = 1.512\n",
      "Epoch  59 Batch   27/67   train_loss = 1.572\n",
      "Epoch  59 Batch   47/67   train_loss = 1.550\n",
      "Epoch  60 Batch    0/67   train_loss = 1.595\n",
      "Epoch  60 Batch   20/67   train_loss = 1.606\n",
      "Epoch  60 Batch   40/67   train_loss = 1.575\n",
      "Epoch  60 Batch   60/67   train_loss = 1.479\n",
      "Epoch  61 Batch   13/67   train_loss = 1.439\n",
      "Epoch  61 Batch   33/67   train_loss = 1.558\n",
      "Epoch  61 Batch   53/67   train_loss = 1.486\n",
      "Epoch  62 Batch    6/67   train_loss = 1.540\n",
      "Epoch  62 Batch   26/67   train_loss = 1.489\n",
      "Epoch  62 Batch   46/67   train_loss = 1.465\n",
      "Epoch  62 Batch   66/67   train_loss = 1.354\n",
      "Epoch  63 Batch   19/67   train_loss = 1.422\n",
      "Epoch  63 Batch   39/67   train_loss = 1.431\n",
      "Epoch  63 Batch   59/67   train_loss = 1.435\n",
      "Epoch  64 Batch   12/67   train_loss = 1.389\n",
      "Epoch  64 Batch   32/67   train_loss = 1.369\n",
      "Epoch  64 Batch   52/67   train_loss = 1.399\n",
      "Epoch  65 Batch    5/67   train_loss = 1.341\n",
      "Epoch  65 Batch   25/67   train_loss = 1.321\n",
      "Epoch  65 Batch   45/67   train_loss = 1.362\n",
      "Epoch  65 Batch   65/67   train_loss = 1.385\n",
      "Epoch  66 Batch   18/67   train_loss = 1.344\n",
      "Epoch  66 Batch   38/67   train_loss = 1.423\n",
      "Epoch  66 Batch   58/67   train_loss = 1.324\n",
      "Epoch  67 Batch   11/67   train_loss = 1.282\n",
      "Epoch  67 Batch   31/67   train_loss = 1.323\n",
      "Epoch  67 Batch   51/67   train_loss = 1.291\n",
      "Epoch  68 Batch    4/67   train_loss = 1.194\n",
      "Epoch  68 Batch   24/67   train_loss = 1.292\n",
      "Epoch  68 Batch   44/67   train_loss = 1.262\n",
      "Epoch  68 Batch   64/67   train_loss = 1.188\n",
      "Epoch  69 Batch   17/67   train_loss = 1.230\n",
      "Epoch  69 Batch   37/67   train_loss = 1.185\n",
      "Epoch  69 Batch   57/67   train_loss = 1.143\n",
      "Epoch  70 Batch   10/67   train_loss = 1.190\n",
      "Epoch  70 Batch   30/67   train_loss = 1.229\n",
      "Epoch  70 Batch   50/67   train_loss = 1.105\n",
      "Epoch  71 Batch    3/67   train_loss = 1.178\n",
      "Epoch  71 Batch   23/67   train_loss = 1.090\n",
      "Epoch  71 Batch   43/67   train_loss = 1.146\n",
      "Epoch  71 Batch   63/67   train_loss = 1.170\n",
      "Epoch  72 Batch   16/67   train_loss = 1.227\n",
      "Epoch  72 Batch   36/67   train_loss = 1.101\n",
      "Epoch  72 Batch   56/67   train_loss = 1.032\n",
      "Epoch  73 Batch    9/67   train_loss = 1.025\n",
      "Epoch  73 Batch   29/67   train_loss = 1.093\n",
      "Epoch  73 Batch   49/67   train_loss = 1.129\n",
      "Epoch  74 Batch    2/67   train_loss = 1.094\n",
      "Epoch  74 Batch   22/67   train_loss = 1.100\n",
      "Epoch  74 Batch   42/67   train_loss = 1.021\n",
      "Epoch  74 Batch   62/67   train_loss = 1.069\n",
      "Epoch  75 Batch   15/67   train_loss = 1.042\n",
      "Epoch  75 Batch   35/67   train_loss = 1.128\n",
      "Epoch  75 Batch   55/67   train_loss = 1.045\n",
      "Epoch  76 Batch    8/67   train_loss = 1.031\n",
      "Epoch  76 Batch   28/67   train_loss = 1.022\n",
      "Epoch  76 Batch   48/67   train_loss = 1.090\n",
      "Epoch  77 Batch    1/67   train_loss = 1.027\n",
      "Epoch  77 Batch   21/67   train_loss = 0.986\n",
      "Epoch  77 Batch   41/67   train_loss = 1.014\n",
      "Epoch  77 Batch   61/67   train_loss = 0.950\n",
      "Epoch  78 Batch   14/67   train_loss = 0.955\n",
      "Epoch  78 Batch   34/67   train_loss = 1.010\n",
      "Epoch  78 Batch   54/67   train_loss = 0.941\n",
      "Epoch  79 Batch    7/67   train_loss = 0.855\n",
      "Epoch  79 Batch   27/67   train_loss = 0.972\n",
      "Epoch  79 Batch   47/67   train_loss = 0.978\n",
      "Epoch  80 Batch    0/67   train_loss = 0.980\n",
      "Epoch  80 Batch   20/67   train_loss = 0.981\n",
      "Epoch  80 Batch   40/67   train_loss = 0.988\n",
      "Epoch  80 Batch   60/67   train_loss = 0.901\n",
      "Epoch  81 Batch   13/67   train_loss = 0.900\n",
      "Epoch  81 Batch   33/67   train_loss = 0.966\n",
      "Epoch  81 Batch   53/67   train_loss = 0.942\n",
      "Epoch  82 Batch    6/67   train_loss = 0.956\n",
      "Epoch  82 Batch   26/67   train_loss = 0.927\n",
      "Epoch  82 Batch   46/67   train_loss = 0.961\n",
      "Epoch  82 Batch   66/67   train_loss = 0.834\n",
      "Epoch  83 Batch   19/67   train_loss = 0.858\n",
      "Epoch  83 Batch   39/67   train_loss = 0.882\n",
      "Epoch  83 Batch   59/67   train_loss = 0.874\n",
      "Epoch  84 Batch   12/67   train_loss = 0.884\n",
      "Epoch  84 Batch   32/67   train_loss = 0.851\n",
      "Epoch  84 Batch   52/67   train_loss = 0.910\n",
      "Epoch  85 Batch    5/67   train_loss = 0.860\n",
      "Epoch  85 Batch   25/67   train_loss = 0.833\n",
      "Epoch  85 Batch   45/67   train_loss = 0.853\n",
      "Epoch  85 Batch   65/67   train_loss = 0.896\n",
      "Epoch  86 Batch   18/67   train_loss = 0.884\n",
      "Epoch  86 Batch   38/67   train_loss = 0.886\n",
      "Epoch  86 Batch   58/67   train_loss = 0.853\n",
      "Epoch  87 Batch   11/67   train_loss = 0.785\n",
      "Epoch  87 Batch   31/67   train_loss = 0.826\n",
      "Epoch  87 Batch   51/67   train_loss = 0.852\n",
      "Epoch  88 Batch    4/67   train_loss = 0.745\n",
      "Epoch  88 Batch   24/67   train_loss = 0.842\n",
      "Epoch  88 Batch   44/67   train_loss = 0.772\n",
      "Epoch  88 Batch   64/67   train_loss = 0.775\n",
      "Epoch  89 Batch   17/67   train_loss = 0.793\n",
      "Epoch  89 Batch   37/67   train_loss = 0.732\n",
      "Epoch  89 Batch   57/67   train_loss = 0.731\n",
      "Epoch  90 Batch   10/67   train_loss = 0.752\n",
      "Epoch  90 Batch   30/67   train_loss = 0.786\n",
      "Epoch  90 Batch   50/67   train_loss = 0.694\n",
      "Epoch  91 Batch    3/67   train_loss = 0.780\n",
      "Epoch  91 Batch   23/67   train_loss = 0.722\n",
      "Epoch  91 Batch   43/67   train_loss = 0.740\n",
      "Epoch  91 Batch   63/67   train_loss = 0.757\n",
      "Epoch  92 Batch   16/67   train_loss = 0.798\n",
      "Epoch  92 Batch   36/67   train_loss = 0.751\n",
      "Epoch  92 Batch   56/67   train_loss = 0.669\n",
      "Epoch  93 Batch    9/67   train_loss = 0.684\n",
      "Epoch  93 Batch   29/67   train_loss = 0.734\n",
      "Epoch  93 Batch   49/67   train_loss = 0.753\n",
      "Epoch  94 Batch    2/67   train_loss = 0.736\n",
      "Epoch  94 Batch   22/67   train_loss = 0.740\n",
      "Epoch  94 Batch   42/67   train_loss = 0.674\n",
      "Epoch  94 Batch   62/67   train_loss = 0.702\n",
      "Epoch  95 Batch   15/67   train_loss = 0.680\n",
      "Epoch  95 Batch   35/67   train_loss = 0.750\n",
      "Epoch  95 Batch   55/67   train_loss = 0.724\n",
      "Epoch  96 Batch    8/67   train_loss = 0.724\n",
      "Epoch  96 Batch   28/67   train_loss = 0.675\n",
      "Epoch  96 Batch   48/67   train_loss = 0.746\n",
      "Epoch  97 Batch    1/67   train_loss = 0.681\n",
      "Epoch  97 Batch   21/67   train_loss = 0.643\n",
      "Epoch  97 Batch   41/67   train_loss = 0.699\n",
      "Epoch  97 Batch   61/67   train_loss = 0.641\n",
      "Epoch  98 Batch   14/67   train_loss = 0.647\n",
      "Epoch  98 Batch   34/67   train_loss = 0.683\n",
      "Epoch  98 Batch   54/67   train_loss = 0.659\n",
      "Epoch  99 Batch    7/67   train_loss = 0.608\n",
      "Epoch  99 Batch   27/67   train_loss = 0.661\n",
      "Epoch  99 Batch   47/67   train_loss = 0.697\n",
      "Model Trained and Saved\n"
     ]
    }
   ],
   "source": [
    "\"\"\"\n",
    "DON'T MODIFY ANYTHING IN THIS CELL\n",
    "\"\"\"\n",
    "batches = get_batches(int_text, batch_size, seq_length)\n",
    "\n",
    "with tf.Session(graph=train_graph) as sess:\n",
    "    sess.run(tf.global_variables_initializer())\n",
    "\n",
    "    for epoch_i in range(num_epochs):\n",
    "        state = sess.run(initial_state, {input_text: batches[0][0]})\n",
    "\n",
    "        for batch_i, (x, y) in enumerate(batches):\n",
    "            feed = {\n",
    "                input_text: x,\n",
    "                targets: y,\n",
    "                initial_state: state,\n",
    "                lr: learning_rate}\n",
    "            train_loss, state, _ = sess.run([cost, final_state, train_op], feed)\n",
    "\n",
    "            # Show every <show_every_n_batches> batches\n",
    "            if (epoch_i * len(batches) + batch_i) % show_every_n_batches == 0:\n",
    "                print('Epoch {:>3} Batch {:>4}/{}   train_loss = {:.3f}'.format(\n",
    "                    epoch_i,\n",
    "                    batch_i,\n",
    "                    len(batches),\n",
    "                    train_loss))\n",
    "\n",
    "    # Save Model\n",
    "    saver = tf.train.Saver()\n",
    "    saver.save(sess, save_dir)\n",
    "    print('Model Trained and Saved')"
   ]
  },
  {
   "cell_type": "markdown",
   "metadata": {},
   "source": [
    "## Save Parameters\n",
    "Save `seq_length` and `save_dir` for generating a new TV script."
   ]
  },
  {
   "cell_type": "code",
   "execution_count": 28,
   "metadata": {},
   "outputs": [],
   "source": [
    "\"\"\"\n",
    "DON'T MODIFY ANYTHING IN THIS CELL\n",
    "\"\"\"\n",
    "# Save parameters for checkpoint\n",
    "helper.save_params((seq_length, save_dir))"
   ]
  },
  {
   "cell_type": "markdown",
   "metadata": {},
   "source": [
    "# Checkpoint"
   ]
  },
  {
   "cell_type": "code",
   "execution_count": 29,
   "metadata": {},
   "outputs": [],
   "source": [
    "\"\"\"\n",
    "DON'T MODIFY ANYTHING IN THIS CELL\n",
    "\"\"\"\n",
    "import tensorflow as tf\n",
    "import numpy as np\n",
    "import helper\n",
    "import problem_unittests as tests\n",
    "\n",
    "_, vocab_to_int, int_to_vocab, token_dict = helper.load_preprocess()\n",
    "seq_length, load_dir = helper.load_params()"
   ]
  },
  {
   "cell_type": "markdown",
   "metadata": {},
   "source": [
    "## Implement Generate Functions\n",
    "### Get Tensors\n",
    "Get tensors from `loaded_graph` using the function [`get_tensor_by_name()`](https://www.tensorflow.org/api_docs/python/tf/Graph#get_tensor_by_name).  Get the tensors using the following names:\n",
    "- \"input:0\"\n",
    "- \"initial_state:0\"\n",
    "- \"final_state:0\"\n",
    "- \"probs:0\"\n",
    "\n",
    "Return the tensors in the following tuple `(InputTensor, InitialStateTensor, FinalStateTensor, ProbsTensor)` "
   ]
  },
  {
   "cell_type": "code",
   "execution_count": 30,
   "metadata": {},
   "outputs": [
    {
     "name": "stdout",
     "output_type": "stream",
     "text": [
      "Tests Passed\n"
     ]
    }
   ],
   "source": [
    "def get_tensors(loaded_graph):\n",
    "    \"\"\"\n",
    "    Get input, initial state, final state, and probabilities tensor from <loaded_graph>\n",
    "    :param loaded_graph: TensorFlow graph loaded from file\n",
    "    :return: Tuple (InputTensor, InitialStateTensor, FinalStateTensor, ProbsTensor)\n",
    "    \"\"\"\n",
    "    # TODO: Implement Function\n",
    "    input_tensor = loaded_graph.get_tensor_by_name('input:0')\n",
    "    initial_state_tensor = loaded_graph.get_tensor_by_name('initial_state:0')\n",
    "    final_state_tensor = loaded_graph.get_tensor_by_name('final_state:0')\n",
    "    probs_tensor = loaded_graph.get_tensor_by_name('probs:0')\n",
    "    \n",
    "    return (input_tensor, initial_state_tensor, final_state_tensor, probs_tensor)\n",
    "\n",
    "\n",
    "\"\"\"\n",
    "DON'T MODIFY ANYTHING IN THIS CELL THAT IS BELOW THIS LINE\n",
    "\"\"\"\n",
    "tests.test_get_tensors(get_tensors)"
   ]
  },
  {
   "cell_type": "markdown",
   "metadata": {},
   "source": [
    "### Choose Word\n",
    "Implement the `pick_word()` function to select the next word using `probabilities`."
   ]
  },
  {
   "cell_type": "code",
   "execution_count": 20,
   "metadata": {},
   "outputs": [
    {
     "name": "stdout",
     "output_type": "stream",
     "text": [
      "Tests Passed\n"
     ]
    }
   ],
   "source": [
    "def pick_word(probabilities, int_to_vocab):\n",
    "    \"\"\"\n",
    "    Pick the next word in the generated text\n",
    "    :param probabilities: Probabilites of the next word\n",
    "    :param int_to_vocab: Dictionary of word ids as the keys and words as the values\n",
    "    :return: String of the predicted word\n",
    "    \"\"\"\n",
    "    # TODO: Implement Function\n",
    "    return int_to_vocab[np.argmax(probabilities)]\n",
    "\n",
    "\n",
    "\"\"\"\n",
    "DON'T MODIFY ANYTHING IN THIS CELL THAT IS BELOW THIS LINE\n",
    "\"\"\"\n",
    "tests.test_pick_word(pick_word)"
   ]
  },
  {
   "cell_type": "markdown",
   "metadata": {},
   "source": [
    "## Generate TV Script\n",
    "This will generate the TV script for you.  Set `gen_length` to the length of TV script you want to generate."
   ]
  },
  {
   "cell_type": "code",
   "execution_count": 21,
   "metadata": {},
   "outputs": [
    {
     "name": "stdout",
     "output_type": "stream",
     "text": [
      "INFO:tensorflow:Restoring parameters from ./save\n",
      "moe_szyslak:(quickly) yeah, that's showin' him, but i am very good friends, we can i hang out at the...\n",
      "moe_szyslak:(cutting him off) uh, is this awkward.\n",
      "moe_szyslak: oh, speakin' of which, uh, you were just gonna be a killer?\n",
      "moe_szyslak: yeah, i can't get artie out of the pope's butt and the bathing suit?\n",
      "moe_szyslak: oh, what the--\n",
      "homer_simpson:(sadly) i am.\n",
      "moe_szyslak:(to homer) i know, i could get a feeling?\n",
      "moe_szyslak:(sadly muttering)...\n",
      "moe_szyslak:(cutting him off) yeah, i can't believe that?\n",
      "moe_szyslak:(nods) uh,\" is that right?\"\n",
      "moe_szyslak:(amazed) that means it worked.\"\n",
      "moe_szyslak:(amazed) that means it worked. no, i don't know, i was just thinking what i got friends.\n",
      "moe_szyslak:(laughing), uh, i can't talk about it.\n",
      "moe_szyslak: yeah, i can't get artie out\n"
     ]
    }
   ],
   "source": [
    "gen_length = 200\n",
    "# homer_simpson, moe_szyslak, or Barney_Gumble\n",
    "prime_word = 'moe_szyslak'\n",
    "\n",
    "\"\"\"\n",
    "DON'T MODIFY ANYTHING IN THIS CELL THAT IS BELOW THIS LINE\n",
    "\"\"\"\n",
    "loaded_graph = tf.Graph()\n",
    "with tf.Session(graph=loaded_graph) as sess:\n",
    "    # Load saved model\n",
    "    loader = tf.train.import_meta_graph(load_dir + '.meta')\n",
    "    loader.restore(sess, load_dir)\n",
    "\n",
    "    # Get Tensors from loaded model\n",
    "    input_text, initial_state, final_state, probs = get_tensors(loaded_graph)\n",
    "\n",
    "    # Sentences generation setup\n",
    "    gen_sentences = [prime_word + ':']\n",
    "    prev_state = sess.run(initial_state, {input_text: np.array([[1]])})\n",
    "\n",
    "    # Generate sentences\n",
    "    for n in range(gen_length):\n",
    "        # Dynamic Input\n",
    "        dyn_input = [[vocab_to_int[word] for word in gen_sentences[-seq_length:]]]\n",
    "        dyn_seq_length = len(dyn_input[0])\n",
    "\n",
    "        # Get Prediction\n",
    "        probabilities, prev_state = sess.run(\n",
    "            [probs, final_state],\n",
    "            {input_text: dyn_input, initial_state: prev_state})\n",
    "        \n",
    "        pred_word = pick_word(probabilities[0][dyn_seq_length-1], int_to_vocab)\n",
    "\n",
    "        gen_sentences.append(pred_word)\n",
    "    \n",
    "    # Remove tokens\n",
    "    tv_script = ' '.join(gen_sentences)\n",
    "    for key, token in token_dict.items():\n",
    "        ending = ' ' if key in ['\\n', '(', '\"'] else ''\n",
    "        tv_script = tv_script.replace(' ' + token.lower(), key)\n",
    "    tv_script = tv_script.replace('\\n ', '\\n')\n",
    "    tv_script = tv_script.replace('( ', '(')\n",
    "        \n",
    "    print(tv_script)"
   ]
  },
  {
   "cell_type": "markdown",
   "metadata": {},
   "source": [
    "# The TV Script is Nonsensical\n",
    "It's ok if the TV script doesn't make any sense.  We trained on less than a megabyte of text.  In order to get good results, you'll have to use a smaller vocabulary or get more data.  Luckly there's more data!  As we mentioned in the begging of this project, this is a subset of [another dataset](https://www.kaggle.com/wcukierski/the-simpsons-by-the-data).  We didn't have you train on all the data, because that would take too long.  However, you are free to train your neural network on all the data.  After you complete the project, of course.\n",
    "# Submitting This Project\n",
    "When submitting this project, make sure to run all the cells before saving the notebook. Save the notebook file as \"dlnd_tv_script_generation.ipynb\" and save it as a HTML file under \"File\" -> \"Download as\". Include the \"helper.py\" and \"problem_unittests.py\" files in your submission."
   ]
  }
 ],
 "metadata": {
  "kernelspec": {
   "display_name": "Python 3",
   "language": "python",
   "name": "python3"
  },
  "language_info": {
   "codemirror_mode": {
    "name": "ipython",
    "version": 3
   },
   "file_extension": ".py",
   "mimetype": "text/x-python",
   "name": "python",
   "nbconvert_exporter": "python",
   "pygments_lexer": "ipython3",
   "version": "3.6.2"
  },
  "widgets": {
   "state": {},
   "version": "1.1.2"
  }
 },
 "nbformat": 4,
 "nbformat_minor": 1
}
